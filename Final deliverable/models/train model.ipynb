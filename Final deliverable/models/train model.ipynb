{
 "cells": [
  {
   "cell_type": "code",
   "execution_count": 1,
   "id": "1842f3f2",
   "metadata": {
    "scrolled": true
   },
   "outputs": [],
   "source": [
    "#Importing Necessary Libraries\n",
    "import numpy #used for numerical analysis\n",
    "import tensorflow #open source used for both NL and DL for computation\n",
    "from tensorflow.keras.datasets import mnist #mnist datoser\n",
    "from tensorflow.keras.models import Sequential #it is a plain stack of Layers\n",
    "from tensorflow.keras import layers #A Layer consists of a tensor-in tensor-out computation function\n",
    "from tensorflow.keras.layers import Dense, Flatten #Dense-Dense Layer is the regular deeply connected\n",
    "#Faltten-used for flattening the input or change the dimension\n",
    "from tensorflow.keras.layers import Conv2D #Convolutional Layer\n",
    "from keras.optimizers import Adam #optimizer\n",
    "from keras.utils import np_utils #used for one-hot encoding"
   ]
  },
  {
   "cell_type": "code",
   "execution_count": 2,
   "id": "31711556",
   "metadata": {},
   "outputs": [],
   "source": [
    "#load data\n",
    "(x_train, y_train), (x_test, y_test)=mnist.load_data() #splitting the mist data into train and test"
   ]
  },
  {
   "cell_type": "code",
   "execution_count": 3,
   "id": "38404cfc",
   "metadata": {},
   "outputs": [
    {
     "name": "stdout",
     "output_type": "stream",
     "text": [
      "(60000, 28, 28)\n",
      "(10000, 28, 28)\n"
     ]
    }
   ],
   "source": [
    "print(x_train.shape) #shope is used for give the dimension values #60000-rows 28x28-pixels\n",
    "print(x_test.shape)"
   ]
  },
  {
   "cell_type": "code",
   "execution_count": 4,
   "id": "b6fcb5cf",
   "metadata": {},
   "outputs": [
    {
     "data": {
      "text/plain": [
       "array([[  0,   0,   0,   0,   0,   0,   0,   0,   0,   0,   0,   0,   0,\n",
       "          0,   0,   0,   0,   0,   0,   0,   0,   0,   0,   0,   0,   0,\n",
       "          0,   0],\n",
       "       [  0,   0,   0,   0,   0,   0,   0,   0,   0,   0,   0,   0,   0,\n",
       "          0,   0,   0,   0,   0,   0,   0,   0,   0,   0,   0,   0,   0,\n",
       "          0,   0],\n",
       "       [  0,   0,   0,   0,   0,   0,   0,   0,   0,   0,   0,   0,   0,\n",
       "          0,   0,   0,   0,   0,   0,   0,   0,   0,   0,   0,   0,   0,\n",
       "          0,   0],\n",
       "       [  0,   0,   0,   0,   0,   0,   0,   0,   0,   0,   0,   0,   0,\n",
       "          0,   0,   0,   0,   0,   0,   0,   0,   0,   0,   0,   0,   0,\n",
       "          0,   0],\n",
       "       [  0,   0,   0,   0,   0,   0,   0,   0,   0,   0,   0,   0,   0,\n",
       "          0,   0,   0,   0,   0,   0,   0,   0,   0,   0,   0,   0,   0,\n",
       "          0,   0],\n",
       "       [  0,   0,   0,   0,   0,   0,   0,   0,   0,   0,   0,   0,   3,\n",
       "         18,  18,  18, 126, 136, 175,  26, 166, 255, 247, 127,   0,   0,\n",
       "          0,   0],\n",
       "       [  0,   0,   0,   0,   0,   0,   0,   0,  30,  36,  94, 154, 170,\n",
       "        253, 253, 253, 253, 253, 225, 172, 253, 242, 195,  64,   0,   0,\n",
       "          0,   0],\n",
       "       [  0,   0,   0,   0,   0,   0,   0,  49, 238, 253, 253, 253, 253,\n",
       "        253, 253, 253, 253, 251,  93,  82,  82,  56,  39,   0,   0,   0,\n",
       "          0,   0],\n",
       "       [  0,   0,   0,   0,   0,   0,   0,  18, 219, 253, 253, 253, 253,\n",
       "        253, 198, 182, 247, 241,   0,   0,   0,   0,   0,   0,   0,   0,\n",
       "          0,   0],\n",
       "       [  0,   0,   0,   0,   0,   0,   0,   0,  80, 156, 107, 253, 253,\n",
       "        205,  11,   0,  43, 154,   0,   0,   0,   0,   0,   0,   0,   0,\n",
       "          0,   0],\n",
       "       [  0,   0,   0,   0,   0,   0,   0,   0,   0,  14,   1, 154, 253,\n",
       "         90,   0,   0,   0,   0,   0,   0,   0,   0,   0,   0,   0,   0,\n",
       "          0,   0],\n",
       "       [  0,   0,   0,   0,   0,   0,   0,   0,   0,   0,   0, 139, 253,\n",
       "        190,   2,   0,   0,   0,   0,   0,   0,   0,   0,   0,   0,   0,\n",
       "          0,   0],\n",
       "       [  0,   0,   0,   0,   0,   0,   0,   0,   0,   0,   0,  11, 190,\n",
       "        253,  70,   0,   0,   0,   0,   0,   0,   0,   0,   0,   0,   0,\n",
       "          0,   0],\n",
       "       [  0,   0,   0,   0,   0,   0,   0,   0,   0,   0,   0,   0,  35,\n",
       "        241, 225, 160, 108,   1,   0,   0,   0,   0,   0,   0,   0,   0,\n",
       "          0,   0],\n",
       "       [  0,   0,   0,   0,   0,   0,   0,   0,   0,   0,   0,   0,   0,\n",
       "         81, 240, 253, 253, 119,  25,   0,   0,   0,   0,   0,   0,   0,\n",
       "          0,   0],\n",
       "       [  0,   0,   0,   0,   0,   0,   0,   0,   0,   0,   0,   0,   0,\n",
       "          0,  45, 186, 253, 253, 150,  27,   0,   0,   0,   0,   0,   0,\n",
       "          0,   0],\n",
       "       [  0,   0,   0,   0,   0,   0,   0,   0,   0,   0,   0,   0,   0,\n",
       "          0,   0,  16,  93, 252, 253, 187,   0,   0,   0,   0,   0,   0,\n",
       "          0,   0],\n",
       "       [  0,   0,   0,   0,   0,   0,   0,   0,   0,   0,   0,   0,   0,\n",
       "          0,   0,   0,   0, 249, 253, 249,  64,   0,   0,   0,   0,   0,\n",
       "          0,   0],\n",
       "       [  0,   0,   0,   0,   0,   0,   0,   0,   0,   0,   0,   0,   0,\n",
       "          0,  46, 130, 183, 253, 253, 207,   2,   0,   0,   0,   0,   0,\n",
       "          0,   0],\n",
       "       [  0,   0,   0,   0,   0,   0,   0,   0,   0,   0,   0,   0,  39,\n",
       "        148, 229, 253, 253, 253, 250, 182,   0,   0,   0,   0,   0,   0,\n",
       "          0,   0],\n",
       "       [  0,   0,   0,   0,   0,   0,   0,   0,   0,   0,  24, 114, 221,\n",
       "        253, 253, 253, 253, 201,  78,   0,   0,   0,   0,   0,   0,   0,\n",
       "          0,   0],\n",
       "       [  0,   0,   0,   0,   0,   0,   0,   0,  23,  66, 213, 253, 253,\n",
       "        253, 253, 198,  81,   2,   0,   0,   0,   0,   0,   0,   0,   0,\n",
       "          0,   0],\n",
       "       [  0,   0,   0,   0,   0,   0,  18, 171, 219, 253, 253, 253, 253,\n",
       "        195,  80,   9,   0,   0,   0,   0,   0,   0,   0,   0,   0,   0,\n",
       "          0,   0],\n",
       "       [  0,   0,   0,   0,  55, 172, 226, 253, 253, 253, 253, 244, 133,\n",
       "         11,   0,   0,   0,   0,   0,   0,   0,   0,   0,   0,   0,   0,\n",
       "          0,   0],\n",
       "       [  0,   0,   0,   0, 136, 253, 253, 253, 212, 135, 132,  16,   0,\n",
       "          0,   0,   0,   0,   0,   0,   0,   0,   0,   0,   0,   0,   0,\n",
       "          0,   0],\n",
       "       [  0,   0,   0,   0,   0,   0,   0,   0,   0,   0,   0,   0,   0,\n",
       "          0,   0,   0,   0,   0,   0,   0,   0,   0,   0,   0,   0,   0,\n",
       "          0,   0],\n",
       "       [  0,   0,   0,   0,   0,   0,   0,   0,   0,   0,   0,   0,   0,\n",
       "          0,   0,   0,   0,   0,   0,   0,   0,   0,   0,   0,   0,   0,\n",
       "          0,   0],\n",
       "       [  0,   0,   0,   0,   0,   0,   0,   0,   0,   0,   0,   0,   0,\n",
       "          0,   0,   0,   0,   0,   0,   0,   0,   0,   0,   0,   0,   0,\n",
       "          0,   0]], dtype=uint8)"
      ]
     },
     "execution_count": 4,
     "metadata": {},
     "output_type": "execute_result"
    }
   ],
   "source": [
    "#Understanding the data\n",
    "x_train[0] #printing the first image\n"
   ]
  },
  {
   "cell_type": "code",
   "execution_count": 5,
   "id": "2af124e6",
   "metadata": {},
   "outputs": [],
   "source": [
    "#Reshaping Dataset\n",
    "#Reshaping to format which CNN expects (batch, height, width, channels) \n",
    "x_train = x_train.reshape(60000, 28, 28, 1).astype('float32') \n",
    "x_test = x_test.reshape(10000, 28, 28, 1).astype('float32')"
   ]
  },
  {
   "cell_type": "code",
   "execution_count": 6,
   "id": "d953cfa9",
   "metadata": {},
   "outputs": [],
   "source": [
    "#One-Hot Encoding\n",
    "#one hot encode\n",
    "number_of_classes = 10 #storing the no. classes in a variable\n",
    "y_train = np_utils.to_categorical (y_train, number_of_classes) #converts the output in binary format\n",
    "y_test = np_utils.to_categorical (y_test, number_of_classes)"
   ]
  },
  {
   "cell_type": "code",
   "execution_count": 7,
   "id": "81169b84",
   "metadata": {},
   "outputs": [
    {
     "data": {
      "text/plain": [
       "array([0., 0., 0., 0., 0., 1., 0., 0., 0., 0.], dtype=float32)"
      ]
     },
     "execution_count": 7,
     "metadata": {},
     "output_type": "execute_result"
    }
   ],
   "source": [
    "y_train[0] #printing the new Label\n"
   ]
  },
  {
   "cell_type": "code",
   "execution_count": 8,
   "id": "39280a26",
   "metadata": {},
   "outputs": [],
   "source": [
    "#Creating the Model\n",
    "#create model\n",
    "model = Sequential()\n",
    "#adding model Layer\n",
    "model.add(Conv2D (64, (3, 3), input_shape=(28, 28, 1), activation='relu'))\n",
    "model.add(Conv2D (32, (3, 3), activation='relu'))\n",
    "#model.add(Conv20(32, (3, 3), activation=\"relu\"))\n",
    "#flotten the dimension of the image\n",
    "model.add(Flatten())\n",
    "#output Layer with 10 neurons\n",
    "model.add(Dense(number_of_classes, activation='softmax'))"
   ]
  },
  {
   "cell_type": "code",
   "execution_count": 9,
   "id": "67635e94",
   "metadata": {},
   "outputs": [],
   "source": [
    "#Compiling the model\n",
    "#Compile model\n",
    "model.compile(loss='categorical_crossentropy', optimizer=\"Adam\", metrics=['accuracy'])"
   ]
  },
  {
   "cell_type": "code",
   "execution_count": 10,
   "id": "590fa617",
   "metadata": {},
   "outputs": [
    {
     "name": "stdout",
     "output_type": "stream",
     "text": [
      "Epoch 1/5\n",
      "1875/1875 [==============================] - 145s 76ms/step - loss: 0.2314 - accuracy: 0.9524 - val_loss: 0.1063 - val_accuracy: 0.9702\n",
      "Epoch 2/5\n",
      "1875/1875 [==============================] - 216s 115ms/step - loss: 0.0705 - accuracy: 0.9782 - val_loss: 0.0900 - val_accuracy: 0.9732\n",
      "Epoch 3/5\n",
      "1875/1875 [==============================] - 211s 112ms/step - loss: 0.0502 - accuracy: 0.9837 - val_loss: 0.0905 - val_accuracy: 0.9712\n",
      "Epoch 4/5\n",
      "1875/1875 [==============================] - 142s 76ms/step - loss: 0.0384 - accuracy: 0.9876 - val_loss: 0.0768 - val_accuracy: 0.9779\n",
      "Epoch 5/5\n",
      "1875/1875 [==============================] - 137s 73ms/step - loss: 0.0286 - accuracy: 0.9910 - val_loss: 0.1094 - val_accuracy: 0.9759\n"
     ]
    },
    {
     "data": {
      "text/plain": [
       "<keras.callbacks.History at 0x147e49e5640>"
      ]
     },
     "execution_count": 10,
     "metadata": {},
     "output_type": "execute_result"
    }
   ],
   "source": [
    "# Fitting the model\n",
    "# Fit the model\n",
    "model.fit(x_train, y_train, validation_data=(x_test, y_test), epochs=5, batch_size=32)\n"
   ]
  },
  {
   "cell_type": "code",
   "execution_count": 11,
   "id": "6ebab8c0",
   "metadata": {},
   "outputs": [
    {
     "name": "stdout",
     "output_type": "stream",
     "text": [
      "Metrics (Test loss & Test Accuracy): \n",
      "[0.10939381271600723, 0.9758999943733215]\n"
     ]
    }
   ],
   "source": [
    "#Observing the metrics\n",
    "# Final evaluation of the model\n",
    "metrics = model.evaluate(x_test, y_test, verbose=0) \n",
    "print(\"Metrics (Test loss & Test Accuracy): \")\n",
    "print(metrics)"
   ]
  },
  {
   "cell_type": "code",
   "execution_count": 12,
   "id": "a6a9d300",
   "metadata": {},
   "outputs": [
    {
     "name": "stdout",
     "output_type": "stream",
     "text": [
      "1/1 [==============================] - 0s 202ms/step\n",
      "[[2.98307223e-13 1.31639574e-17 5.07505010e-11 2.12741336e-09\n",
      "  2.55904906e-16 3.28386653e-16 1.14010902e-20 1.00000000e+00\n",
      "  1.51029485e-13 2.43428333e-11]\n",
      " [1.09271386e-05 1.28598532e-09 9.99971390e-01 7.52625454e-07\n",
      "  2.02695357e-14 2.48325180e-11 1.69312589e-05 4.04112802e-16\n",
      "  1.32878535e-08 6.94642572e-14]\n",
      " [4.80226081e-10 9.99881744e-01 5.07329123e-10 2.65095476e-12\n",
      "  1.17919721e-04 7.50208002e-08 1.01075252e-10 8.24279844e-09\n",
      "  2.82054032e-07 1.74153701e-14]\n",
      " [9.99999762e-01 2.83770225e-16 2.06525162e-11 7.26806192e-15\n",
      "  2.15151399e-12 2.20106089e-09 2.83147358e-07 1.23577621e-13\n",
      "  3.60704110e-12 1.13901146e-08]]\n"
     ]
    }
   ],
   "source": [
    "#Predicting the output\n",
    "prediction=model.predict(x_test[:4])\n",
    "print (prediction)"
   ]
  },
  {
   "cell_type": "code",
   "execution_count": 13,
   "id": "86600f24",
   "metadata": {},
   "outputs": [
    {
     "name": "stdout",
     "output_type": "stream",
     "text": [
      "[7 2 1 0]\n",
      "[[0. 0. 0. 0. 0. 0. 0. 1. 0. 0.]\n",
      " [0. 0. 1. 0. 0. 0. 0. 0. 0. 0.]\n",
      " [0. 1. 0. 0. 0. 0. 0. 0. 0. 0.]\n",
      " [1. 0. 0. 0. 0. 0. 0. 0. 0. 0.]]\n"
     ]
    }
   ],
   "source": [
    "import numpy as np\n",
    "print (np.argmax(prediction, axis=1)) #printing our labels from first 4 images\n",
    "print (y_test[:4]) #printing the actual labels"
   ]
  },
  {
   "cell_type": "code",
   "execution_count": 14,
   "id": "78fd5664",
   "metadata": {},
   "outputs": [
    {
     "name": "stdout",
     "output_type": "stream",
     "text": [
      "Metrics (Test loss & Test Accuracy): \n",
      "[0.10939381271600723, 0.9758999943733215]\n"
     ]
    }
   ],
   "source": [
    "#Observing the metrics\n",
    "# Final evaluation of the model\n",
    "metrics = model.evaluate(x_test, y_test, verbose=0)\n",
    "print(\"Metrics (Test loss & Test Accuracy): \")\n",
    "print(metrics)\n"
   ]
  },
  {
   "cell_type": "code",
   "execution_count": 15,
   "id": "0800ca28",
   "metadata": {},
   "outputs": [
    {
     "name": "stdout",
     "output_type": "stream",
     "text": [
      "1/1 [==============================] - 0s 75ms/step\n",
      "[[2.98307223e-13 1.31639574e-17 5.07505010e-11 2.12741336e-09\n",
      "  2.55904906e-16 3.28386653e-16 1.14010902e-20 1.00000000e+00\n",
      "  1.51029485e-13 2.43428333e-11]\n",
      " [1.09271386e-05 1.28598532e-09 9.99971390e-01 7.52625454e-07\n",
      "  2.02695357e-14 2.48325180e-11 1.69312589e-05 4.04112802e-16\n",
      "  1.32878535e-08 6.94642572e-14]\n",
      " [4.80226081e-10 9.99881744e-01 5.07329123e-10 2.65095476e-12\n",
      "  1.17919721e-04 7.50208002e-08 1.01075252e-10 8.24279844e-09\n",
      "  2.82054032e-07 1.74153701e-14]\n",
      " [9.99999762e-01 2.83770225e-16 2.06525162e-11 7.26806192e-15\n",
      "  2.15151399e-12 2.20106089e-09 2.83147358e-07 1.23577621e-13\n",
      "  3.60704110e-12 1.13901146e-08]]\n"
     ]
    }
   ],
   "source": [
    "#Predicting the output\n",
    "prediction=model.predict(x_test[:4])\n",
    "print (prediction)"
   ]
  },
  {
   "cell_type": "code",
   "execution_count": 16,
   "id": "e570f75d",
   "metadata": {},
   "outputs": [
    {
     "name": "stdout",
     "output_type": "stream",
     "text": [
      "[7 2 1 0]\n",
      "[[0. 0. 0. 0. 0. 0. 0. 1. 0. 0.]\n",
      " [0. 0. 1. 0. 0. 0. 0. 0. 0. 0.]\n",
      " [0. 1. 0. 0. 0. 0. 0. 0. 0. 0.]\n",
      " [1. 0. 0. 0. 0. 0. 0. 0. 0. 0.]]\n"
     ]
    }
   ],
   "source": [
    "import numpy as np\n",
    "print (np.argmax(prediction, axis=1)) #printing our labels from first 4 images\n",
    "print (y_test[:4]) #printing the actual labels"
   ]
  },
  {
   "cell_type": "code",
   "execution_count": 17,
   "id": "818b485f",
   "metadata": {},
   "outputs": [],
   "source": [
    "#Saving the model\n",
    "# Save the model\n",
    "model.save('mnistCNN.h5')"
   ]
  },
  {
   "cell_type": "code",
   "execution_count": 34,
   "id": "d94d5602",
   "metadata": {},
   "outputs": [
    {
     "name": "stdout",
     "output_type": "stream",
     "text": [
      "1/1 [==============================] - 0s 323ms/step\n",
      "[[9.99798238e-01 6.69101656e-13 8.76860431e-05 2.05635217e-07\n",
      "  3.78233957e-13 1.10077644e-05 9.23489206e-05 1.10451925e-10\n",
      "  1.63557516e-07 1.03675184e-05]]\n",
      "1/1 [==============================] - 0s 60ms/step\n",
      "[[9.99798238e-01 6.69101656e-13 8.76860431e-05 2.05635217e-07\n",
      "  3.78233957e-13 1.10077644e-05 9.23489206e-05 1.10451925e-10\n",
      "  1.63557516e-07 1.03675184e-05]]\n",
      "1/1 [==============================] - 0s 60ms/step\n",
      "[[9.99798238e-01 6.69101656e-13 8.76860431e-05 2.05635217e-07\n",
      "  3.78233957e-13 1.10077644e-05 9.23489206e-05 1.10451925e-10\n",
      "  1.63557516e-07 1.03675184e-05]]\n",
      "1/1 [==============================] - 0s 63ms/step\n",
      "[[9.99798238e-01 6.69101656e-13 8.76860431e-05 2.05635217e-07\n",
      "  3.78233957e-13 1.10077644e-05 9.23489206e-05 1.10451925e-10\n",
      "  1.63557516e-07 1.03675184e-05]]\n"
     ]
    }
   ],
   "source": [
    "#Importing the Keras Libraries and packages\n",
    "from tensorflow.keras.models import load_model\n",
    "model = load_model(r'C:\\Users\\Mano\\OneDrive\\Desktop\\New folder\\mnistCNN.h5') \n",
    "from PIL import Image #used for manipulating image uploaded by the user.\n",
    "import numpy as np #used for numerical analysis\n",
    "for index in range(4):\n",
    "    img = Image.open(r'C:\\Users\\Mano\\OneDrive\\Desktop\\New folder\\testSet\\img_2.jpg') #convert image to monochrome\n",
    "    img = img.resize((28,28))# resizing of input image\n",
    "    im2arr= np.array(img) #converting to image\n",
    "    im2arr = im2arr.reshape(1,28,28,1) #reshaping according to our requirement\n",
    "#Predicting the Test set results\n",
    "    y_pred= model.predict(im2arr) #predicting the results\n",
    "    print(y_pred)\n"
   ]
  },
  {
   "cell_type": "code",
   "execution_count": null,
   "id": "e509dec7",
   "metadata": {},
   "outputs": [],
   "source": []
  }
 ],
 "metadata": {
  "kernelspec": {
   "display_name": "Python 3 (ipykernel)",
   "language": "python",
   "name": "python3"
  },
  "language_info": {
   "codemirror_mode": {
    "name": "ipython",
    "version": 3
   },
   "file_extension": ".py",
   "mimetype": "text/x-python",
   "name": "python",
   "nbconvert_exporter": "python",
   "pygments_lexer": "ipython3",
   "version": "3.9.13"
  }
 },
 "nbformat": 4,
 "nbformat_minor": 5
}
